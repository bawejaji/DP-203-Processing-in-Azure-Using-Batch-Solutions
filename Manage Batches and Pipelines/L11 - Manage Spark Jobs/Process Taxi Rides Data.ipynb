{
 "cells": [
  {
   "cell_type": "markdown",
   "metadata": {
    "application/vnd.databricks.v1+cell": {
     "cellMetadata": {},
     "inputWidgets": {},
     "nuid": "382ed488-361d-403d-ac7b-8c046cc18426",
     "showTitle": false,
     "title": ""
    }
   },
   "source": [
    "###1. Connect to Azure Data Lake using Access Key"
   ]
  },
  {
   "cell_type": "code",
   "execution_count": null,
   "metadata": {
    "application/vnd.databricks.v1+cell": {
     "cellMetadata": {
      "byteLimit": 2048000,
      "rowLimit": 10000
     },
     "inputWidgets": {},
     "nuid": "d68556ac-ea22-4732-b103-bce65e4cd7eb",
     "showTitle": false,
     "title": ""
    }
   },
   "outputs": [],
   "source": [
    "spark.conf.set(\n",
    "                  \"fs.azure.account.key.*** Data Lake Name ***.dfs.core.windows.net\",  \n",
    "\n",
    "                  \"*** Data Lake Access Key ***\"\n",
    "              )"
   ]
  },
  {
   "cell_type": "markdown",
   "metadata": {
    "application/vnd.databricks.v1+cell": {
     "cellMetadata": {},
     "inputWidgets": {},
     "nuid": "4762c68c-058c-4fac-b8c6-cb59afe05a3b",
     "showTitle": false,
     "title": ""
    }
   },
   "source": [
    "###2. List files in Data Lake"
   ]
  },
  {
   "cell_type": "code",
   "execution_count": null,
   "metadata": {
    "application/vnd.databricks.v1+cell": {
     "cellMetadata": {
      "byteLimit": 2048000,
      "rowLimit": 10000
     },
     "inputWidgets": {},
     "nuid": "bb953e3f-10e0-4a6a-81b9-be9c4a6f242f",
     "showTitle": false,
     "title": ""
    }
   },
   "outputs": [],
   "source": [
    "display(\n",
    "          dbutils.fs.ls(\"abfss://*** Container Name ***@*** Data Lake Name ***.dfs.core.windows.net/*** Path ***/\")\n",
    "       )"
   ]
  },
  {
   "cell_type": "markdown",
   "metadata": {
    "application/vnd.databricks.v1+cell": {
     "cellMetadata": {},
     "inputWidgets": {},
     "nuid": "2790b699-581c-48fd-9c18-4e689d489212",
     "showTitle": false,
     "title": ""
    }
   },
   "source": [
    "###3. Read file from Data Lake"
   ]
  },
  {
   "cell_type": "code",
   "execution_count": null,
   "metadata": {
    "application/vnd.databricks.v1+cell": {
     "cellMetadata": {
      "byteLimit": 2048000,
      "rowLimit": 10000
     },
     "inputWidgets": {},
     "nuid": "34dfab17-3f14-48db-a671-a153e5b663f0",
     "showTitle": false,
     "title": ""
    }
   },
   "outputs": [],
   "source": [
    "filePath = \"abfss://*** Container Name ***@*** Data Lake Name ***.dfs.core.windows.net/Raw/TaxiRides.csv\""
   ]
  },
  {
   "cell_type": "code",
   "execution_count": null,
   "metadata": {
    "application/vnd.databricks.v1+cell": {
     "cellMetadata": {
      "byteLimit": 2048000,
      "rowLimit": 10000
     },
     "inputWidgets": {},
     "nuid": "82cdfe1a-c853-47f7-a358-7b7b96e4246a",
     "showTitle": false,
     "title": ""
    }
   },
   "outputs": [],
   "source": [
    "# Read TaxiRides csv file to create DataFrame\n",
    "from pyspark.sql.functions import *\n",
    "\n",
    "taxiRidesDF = (\n",
    "                  spark    \n",
    "                    .read    \n",
    "\n",
    "                    .option(\"header\", \"true\")\n",
    "\n",
    "                    .option(\"inferSchema\", \"true\")\n",
    "\n",
    "                    .csv(filePath)\n",
    "              )\n",
    "\n",
    "# Show DataFrame content\n",
    "display( taxiRidesDF )"
   ]
  },
  {
   "cell_type": "markdown",
   "metadata": {
    "application/vnd.databricks.v1+cell": {
     "cellMetadata": {},
     "inputWidgets": {},
     "nuid": "a45cf0e1-5982-43fa-9669-6a1963f644cc",
     "showTitle": false,
     "title": ""
    }
   },
   "source": [
    "###4. Analyze Data"
   ]
  },
  {
   "cell_type": "code",
   "execution_count": null,
   "metadata": {
    "application/vnd.databricks.v1+cell": {
     "cellMetadata": {
      "byteLimit": 2048000,
      "rowLimit": 10000
     },
     "inputWidgets": {},
     "nuid": "62448214-e432-4c5b-9ea1-cf38b7d93f06",
     "showTitle": false,
     "title": ""
    }
   },
   "outputs": [],
   "source": [
    "taxiRidesAnalyzedDF = (\n",
    "                            taxiRidesDF.describe\n",
    "                            (\n",
    "                                \"PassengerCount\",\n",
    "                                \"TripDistance\"\n",
    "                            )\n",
    "                      )\n",
    "\n",
    "display(taxiRidesAnalyzedDF)"
   ]
  },
  {
   "cell_type": "markdown",
   "metadata": {
    "application/vnd.databricks.v1+cell": {
     "cellMetadata": {},
     "inputWidgets": {},
     "nuid": "200013c6-6126-49d8-84b3-58b0ab1df4c9",
     "showTitle": false,
     "title": ""
    }
   },
   "source": [
    "###5. Apply Transformations"
   ]
  },
  {
   "cell_type": "markdown",
   "metadata": {
    "application/vnd.databricks.v1+cell": {
     "cellMetadata": {},
     "inputWidgets": {},
     "nuid": "dbc56fbc-0ccd-4007-a8bc-aeeeb6a8b71b",
     "showTitle": false,
     "title": ""
    }
   },
   "source": [
    "####5.A. Filter Data"
   ]
  },
  {
   "cell_type": "code",
   "execution_count": null,
   "metadata": {
    "application/vnd.databricks.v1+cell": {
     "cellMetadata": {
      "byteLimit": 2048000,
      "rowLimit": 10000
     },
     "inputWidgets": {},
     "nuid": "b619c868-06d1-446c-9b2e-f57c8d6eb36e",
     "showTitle": false,
     "title": ""
    }
   },
   "outputs": [],
   "source": [
    "taxiRidesDF = (\n",
    "                  taxiRidesDF\n",
    "    \n",
    "                      .where(\"PassengerCount > 0\")\n",
    "\n",
    "                      .where(\"TripDistance > 0.0\")\n",
    "              )"
   ]
  },
  {
   "cell_type": "markdown",
   "metadata": {
    "application/vnd.databricks.v1+cell": {
     "cellMetadata": {},
     "inputWidgets": {},
     "nuid": "892e028e-f5cd-41c3-a377-5d8dca0627df",
     "showTitle": false,
     "title": ""
    }
   },
   "source": [
    "####5.B. Select Limited Columns"
   ]
  },
  {
   "cell_type": "code",
   "execution_count": null,
   "metadata": {
    "application/vnd.databricks.v1+cell": {
     "cellMetadata": {
      "byteLimit": 2048000,
      "rowLimit": 10000
     },
     "inputWidgets": {},
     "nuid": "21b5dea2-a60c-441d-aae6-afff333c1e67",
     "showTitle": false,
     "title": ""
    }
   },
   "outputs": [],
   "source": [
    "taxiRidesDF = (\n",
    "                   taxiRidesDF\n",
    "\n",
    "                        # Select only limited columns\n",
    "                        .select(\n",
    "                                  col(\"RideID\").alias(\"ID\"),\n",
    "                             \n",
    "                                  \"PickupTime\",\n",
    "                                  \"DropTime\",\n",
    "                                  \"PickupLocationId\",\n",
    "                                  \"DropLocationId\",\n",
    "                                  \"PassengerCount\",\n",
    "                                  \"TripDistance\",\n",
    "                                  \"RateCodeId\",\n",
    "                                  \"PaymentType\",\n",
    "                                  \"TotalAmount\"\n",
    "                              )\n",
    "              )\n",
    "\n",
    "taxiRidesDF.printSchema()"
   ]
  },
  {
   "cell_type": "markdown",
   "metadata": {
    "application/vnd.databricks.v1+cell": {
     "cellMetadata": {},
     "inputWidgets": {},
     "nuid": "e4046425-6527-47d0-9d34-d1c083c70fe3",
     "showTitle": false,
     "title": ""
    }
   },
   "source": [
    "####5.C. Create Derived Columns - TripYear, TripMonth, TripDay"
   ]
  },
  {
   "cell_type": "code",
   "execution_count": null,
   "metadata": {
    "application/vnd.databricks.v1+cell": {
     "cellMetadata": {
      "byteLimit": 2048000,
      "rowLimit": 10000
     },
     "inputWidgets": {},
     "nuid": "ab4563c5-7566-4c43-8d99-d13dc9e73678",
     "showTitle": false,
     "title": ""
    }
   },
   "outputs": [],
   "source": [
    "taxiRidesDF = (\n",
    "                  taxiRidesDF\n",
    "    \n",
    "                        .withColumn(\"TripYear\"  , year(col(\"PickupTime\")))\n",
    "\n",
    "                        .withColumn(\"TripMonth\" , month(col(\"PickupTime\")))\n",
    "\n",
    "                        .withColumn(\"TripDay\"   , dayofmonth(col(\"PickupTime\")))\n",
    "              )\n",
    "\n",
    "taxiRidesDF.printSchema()"
   ]
  },
  {
   "cell_type": "markdown",
   "metadata": {
    "application/vnd.databricks.v1+cell": {
     "cellMetadata": {},
     "inputWidgets": {},
     "nuid": "601a8aea-f6ff-4bfd-8b7f-aa2acc2396fb",
     "showTitle": false,
     "title": ""
    }
   },
   "source": [
    "####5.D. Create Derived Column - TripType"
   ]
  },
  {
   "cell_type": "code",
   "execution_count": null,
   "metadata": {
    "application/vnd.databricks.v1+cell": {
     "cellMetadata": {
      "byteLimit": 2048000,
      "rowLimit": 10000
     },
     "inputWidgets": {},
     "nuid": "389a853e-2e94-4d80-8eca-309742afeeb5",
     "showTitle": false,
     "title": ""
    }
   },
   "outputs": [],
   "source": [
    "taxiRidesDF = (\n",
    "                  taxiRidesDF\n",
    "    \n",
    "                        .withColumn(\"TripType\", when(\n",
    "                                                      col(\"RateCodeId\") == 6,\n",
    "                                                        \"SharedTrip\"\n",
    "                                                    )\n",
    "                                                .otherwise(\"SoloTrip\")\n",
    "                                   )\n",
    "              )\n",
    "\n",
    "taxiRidesDF.printSchema()"
   ]
  },
  {
   "cell_type": "markdown",
   "metadata": {
    "application/vnd.databricks.v1+cell": {
     "cellMetadata": {},
     "inputWidgets": {},
     "nuid": "4b2572aa-f442-4185-a496-95f4e8924262",
     "showTitle": false,
     "title": ""
    }
   },
   "source": [
    "###6. Save Data in Parquet Format to Data Lake"
   ]
  },
  {
   "cell_type": "code",
   "execution_count": null,
   "metadata": {
    "application/vnd.databricks.v1+cell": {
     "cellMetadata": {
      "byteLimit": 2048000,
      "rowLimit": 10000
     },
     "inputWidgets": {},
     "nuid": "2a83eb86-ec29-44de-9f9c-9ef9ab41a1e3",
     "showTitle": false,
     "title": ""
    }
   },
   "outputs": [],
   "source": [
    "(\n",
    "    taxiRidesDF\n",
    "            .write\n",
    "    \n",
    "            .mode(\"overwrite\")\n",
    "    \n",
    "            .parquet(\"abfss://*** Container Name ***@*** Data Lake Name ***.dfs.core.windows.net/Output/TaxiRides.parquet\")\n",
    ")"
   ]
  },
  {
   "cell_type": "code",
   "execution_count": null,
   "metadata": {
    "application/vnd.databricks.v1+cell": {
     "cellMetadata": {},
     "inputWidgets": {},
     "nuid": "6e6ec9fa-dfd4-48ba-8de0-016a87bf9dcc",
     "showTitle": false,
     "title": ""
    }
   },
   "outputs": [],
   "source": []
  }
 ],
 "metadata": {
  "application/vnd.databricks.v1+notebook": {
   "dashboards": [],
   "language": "python",
   "notebookMetadata": {
    "pythonIndentUnit": 2
   },
   "notebookName": "Process Taxi Rides Data",
   "widgets": {}
  },
  "language_info": {
   "name": "python"
  }
 },
 "nbformat": 4,
 "nbformat_minor": 0
}
